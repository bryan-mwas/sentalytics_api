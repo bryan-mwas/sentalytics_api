{
 "cells": [
  {
   "cell_type": "code",
   "execution_count": 1,
   "metadata": {},
   "outputs": [
    {
     "name": "stdout",
     "output_type": "stream",
     "text": [
      "Training with Support Vector Machine ...\n",
      "\n",
      "Pickle file exists. Loading pickle ... \n",
      "\n",
      "Results for SGDClassifier\n",
      "\n",
      "Training time: 0.067883s; Prediction time: 0.084023s\n",
      "             precision    recall  f1-score   support\n",
      "\n",
      "   negative       0.79      0.82      0.80       218\n",
      "    neutral       0.81      0.86      0.83       289\n",
      "   positive       1.00      0.26      0.41        35\n",
      "\n",
      "avg / total       0.81      0.80      0.79       542\n",
      "\n",
      "Accuracy:   0.803\n"
     ]
    }
   ],
   "source": [
    "import time\n",
    "import pandas as pd\n",
    "import numpy as np\n",
    "import os\n",
    "\n",
    "import preprocessing as pre\n",
    "\n",
    "from sklearn.model_selection import train_test_split\n",
    "from sklearn.feature_extraction.text import CountVectorizer\n",
    "from sklearn.pipeline import Pipeline\n",
    "from sklearn.feature_extraction.text import TfidfTransformer\n",
    "from sklearn.naive_bayes import MultinomialNB\n",
    "from sklearn.naive_bayes import BernoulliNB\n",
    "from sklearn.linear_model import SGDClassifier\n",
    "from sklearn.model_selection import GridSearchCV\n",
    "from sklearn.metrics import classification_report\n",
    "from sklearn.externals import joblib\n",
    "from sklearn import metrics\n",
    "\n",
    "if __name__ == '__main__':\n",
    "        # Access the csv file\n",
    "    df = pd.read_csv('.\\\\dataset\\\\labelled_tweets.csv', skipinitialspace=True, usecols=['text','polarity'])\n",
    "    df.dropna(how='any')\n",
    "\n",
    "    # print(type(df))\n",
    "    text = df['text']\n",
    "    label = df['polarity']\n",
    "\n",
    "    # Split the tweets in training and test set\n",
    "    def split_data(data):\n",
    "        # shuffle data\n",
    "        data.reindex(np.random.permutation(data.index))\n",
    "\n",
    "        # train, test data\n",
    "        train, test =train_test_split(data, test_size = 0.3)\n",
    "\n",
    "        train.to_csv(\".\\\\dataset\\\\train_data.csv\")\n",
    "        test.to_csv(\".\\\\dataset\\\\test_data.csv\")\n",
    "\n",
    "#     split_data(df)\n",
    "\n",
    "    train = pd.read_csv(\".\\\\dataset\\\\train_data.csv\", skipinitialspace=True, encoding='latin1')\n",
    "    train_text = train['text']\n",
    "    train_label = train['polarity']\n",
    "\n",
    "    test = pd.read_csv(\".\\\\dataset\\\\test_data.csv\", skipinitialspace=True, encoding='latin1')\n",
    "    test_text = test['text']\n",
    "    test_label = test['polarity']\n",
    "\n",
    "    # Remove handles and hashtags\n",
    "    # TODO: Review removal of hyperlinks\n",
    "    def normalized_data(dataset):\n",
    "        cleaned_text = []\n",
    "        for index, item in enumerate(dataset.text):\n",
    "            if isinstance(item, str):\n",
    "                cleaned_text.append(pre.process_text(item))\n",
    "        return cleaned_text\n",
    "\n",
    "    def polarity(dataset):\n",
    "        polarity = []\n",
    "        for index, item in enumerate(dataset.polarity):\n",
    "            if isinstance(item, str):\n",
    "                polarity.append(pre.process_text(item))\n",
    "        return polarity\n",
    "    \n",
    "    def classifier_report(classifier,time_train,time_predict,predicted):\n",
    "        print(\"Results for \" + classifier + \"\\n\")\n",
    "        print(\"Training time: %fs; Prediction time: %fs\" % (time_train, time_predict))\n",
    "        print(classification_report(polarity(test), predicted))\n",
    "        score = metrics.accuracy_score(polarity(test), predicted)\n",
    "        print(\"Accuracy:   %0.3f\" % score)\n",
    "\n",
    "    def nb_classifier():\n",
    "        text_clf=Pipeline([('vect',CountVectorizer()),('tfidf',TfidfTransformer()),('clf',BernoulliNB())])\n",
    "        t0 = time.time()\n",
    "        text_clf=text_clf.fit(normalized_data(train), polarity(train))\n",
    "        t1 = time.time()\n",
    "        prediction_nb = text_clf.predict(normalized_data(test))\n",
    "        t2 = time.time()\n",
    "        time_nb_train = t1-t0\n",
    "        time_nb_predict = t2-t1\n",
    "        classifier_report(\"MultinomialNB\", time_nb_train, time_nb_predict, prediction_nb)\n",
    "\n",
    "    def svm_classifer():\n",
    "        text_clf_svm = Pipeline([('vect', CountVectorizer()),('tfidf', TfidfTransformer()),('clf-svm', SGDClassifier(loss='hinge', penalty='l2',alpha=1e-3, max_iter=5, random_state=42)),])\n",
    "        t0 = time.time()\n",
    "        # Check if a pickled file exists\n",
    "        pickle = os.path.exists('text_clf_svm.pkl')\n",
    "        if pickle:\n",
    "            print(\"Pickle file exists. Loading pickle ... \\n\")\n",
    "            text_clf_svm = joblib.load('text_clf_svm.pkl')\n",
    "        else:\n",
    "            text_clf_svm = text_clf_svm.fit(normalized_data(train), polarity(train))\n",
    "            # Create a pickle\n",
    "            joblib.dump(text_clf_svm, 'text_clf_svm.pkl')\n",
    "        t1 = time.time()\n",
    "        prediction_svm = text_clf_svm.predict(normalized_data(test))\n",
    "        t2 = time.time()\n",
    "        time_svm_train = t1-t0\n",
    "        time_svm_predict = t2-t1\n",
    "        classifier_report(\"SGDClassifier\", time_svm_train, time_svm_predict, prediction_svm)\n",
    "        return text_clf_svm\n",
    "    \n",
    "#     print(\"Training with Naive Bayes ...\")\n",
    "#     nb_classifier()\n",
    "# TODO: Review the logging functionality\n",
    "    print(\"Training with Support Vector Machine ...\\n\")\n",
    "    svm_classifer()"
   ]
  },
  {
   "cell_type": "code",
   "execution_count": 6,
   "metadata": {},
   "outputs": [
    {
     "name": "stdout",
     "output_type": "stream",
     "text": [
      "Pickle file exists. Loading pickle ... \n",
      "\n",
      "Results for SGDClassifier\n",
      "\n",
      "Training time: 0.061009s; Prediction time: 0.017000s\n",
      "             precision    recall  f1-score   support\n",
      "\n",
      "   negative       0.79      0.82      0.80       218\n",
      "    neutral       0.81      0.86      0.83       289\n",
      "   positive       1.00      0.26      0.41        35\n",
      "\n",
      "avg / total       0.81      0.80      0.79       542\n",
      "\n",
      "Accuracy:   0.803\n"
     ]
    }
   ],
   "source": [
    "# We don't execute everything unless we're viewing in a notebook\n",
    "IN_JUPYTER = 'get_ipython' in globals() and get_ipython().__class__.__name__ == \"ZMQInteractiveShell\"\n",
    "if IN_JUPYTER:\n",
    "    svm_classifer().predict([\"I got it. Thanks\"])"
   ]
  },
  {
   "cell_type": "code",
   "execution_count": 7,
   "metadata": {},
   "outputs": [
    {
     "data": {
      "text/plain": [
       "True"
      ]
     },
     "execution_count": 7,
     "metadata": {},
     "output_type": "execute_result"
    }
   ],
   "source": [
    "# parameters = {'vect__ngram_range': [(1, 1), (1, 2)],'tfidf__use_idf': (True, False),'clf__alpha': (1e-2, 1e-3),}\n",
    "\n",
    "# gs_clf = GridSearchCV(text_clf, parameters, n_jobs=-1)\n",
    "# gs_clf = gs_clf.fit(normalized_data(train), polarity(train))\n",
    "# gs_clf.best_score_\n",
    "# gs_clf.best_params_"
   ]
  },
  {
   "cell_type": "code",
   "execution_count": null,
   "metadata": {
    "collapsed": true
   },
   "outputs": [],
   "source": []
  }
 ],
 "metadata": {
  "kernelspec": {
   "display_name": "Python 3",
   "language": "python",
   "name": "python3"
  },
  "language_info": {
   "codemirror_mode": {
    "name": "ipython",
    "version": 3
   },
   "file_extension": ".py",
   "mimetype": "text/x-python",
   "name": "python",
   "nbconvert_exporter": "python",
   "pygments_lexer": "ipython3",
   "version": "3.6.2"
  }
 },
 "nbformat": 4,
 "nbformat_minor": 2
}
