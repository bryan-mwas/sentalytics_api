{
 "cells": [
  {
   "cell_type": "code",
   "execution_count": 1,
   "metadata": {},
   "outputs": [
    {
     "data": {
      "text/html": [
       "<div>\n",
       "<style>\n",
       "    .dataframe thead tr:only-child th {\n",
       "        text-align: right;\n",
       "    }\n",
       "\n",
       "    .dataframe thead th {\n",
       "        text-align: left;\n",
       "    }\n",
       "\n",
       "    .dataframe tbody tr th {\n",
       "        vertical-align: top;\n",
       "    }\n",
       "</style>\n",
       "<table border=\"1\" class=\"dataframe\">\n",
       "  <thead>\n",
       "    <tr style=\"text-align: right;\">\n",
       "      <th></th>\n",
       "      <th>polarity</th>\n",
       "      <th>text</th>\n",
       "    </tr>\n",
       "  </thead>\n",
       "  <tbody>\n",
       "    <tr>\n",
       "      <th>1392</th>\n",
       "      <td>negative</td>\n",
       "      <td>why are you guys not responding to my emails ...</td>\n",
       "    </tr>\n",
       "    <tr>\n",
       "      <th>972</th>\n",
       "      <td>neutral</td>\n",
       "      <td>My order number is 309629596</td>\n",
       "    </tr>\n",
       "    <tr>\n",
       "      <th>453</th>\n",
       "      <td>negative</td>\n",
       "      <td>ORDER N.° 30429438 i have picked my package t...</td>\n",
       "    </tr>\n",
       "    <tr>\n",
       "      <th>1564</th>\n",
       "      <td>neutral</td>\n",
       "      <td>Okay but the 21 days max are elapsing this week..</td>\n",
       "    </tr>\n",
       "    <tr>\n",
       "      <th>1466</th>\n",
       "      <td>negative</td>\n",
       "      <td>I need a way forward. Am tired and remember n...</td>\n",
       "    </tr>\n",
       "  </tbody>\n",
       "</table>\n",
       "</div>"
      ],
      "text/plain": [
       "      polarity                                               text\n",
       "1392  negative   why are you guys not responding to my emails ...\n",
       "972    neutral                       My order number is 309629596\n",
       "453   negative   ORDER N.° 30429438 i have picked my package t...\n",
       "1564   neutral  Okay but the 21 days max are elapsing this week..\n",
       "1466  negative   I need a way forward. Am tired and remember n..."
      ]
     },
     "execution_count": 1,
     "metadata": {},
     "output_type": "execute_result"
    }
   ],
   "source": [
    "import pandas as pd\n",
    "import numpy as np\n",
    "path = 'dataset/labelled_tweets.csv'\n",
    "    \n",
    "tweet = pd.read_csv(path, usecols=['text', 'polarity'])\n",
    "# Remove rows will nan values\n",
    "tweet = tweet.dropna()\n",
    "tweet = tweet.reindex(np.random.permutation(tweet.index))\n",
    "# preprocessing bit\n",
    "# replace user handles (@Jumia) to be empty\n",
    "pattern = \"(@[A-Za-z0-9]+)|(http|https|ftp)://[a-zA-Z0-9./]+|#(\\w+)\"\n",
    "tweet['text'] = tweet.text.str.replace(pattern, '')\n",
    "tweet.head()"
   ]
  },
  {
   "cell_type": "code",
   "execution_count": 2,
   "metadata": {},
   "outputs": [
    {
     "data": {
      "text/plain": [
       "neutral     959\n",
       "negative    748\n",
       "positive    100\n",
       "Name: polarity, dtype: int64"
      ]
     },
     "execution_count": 2,
     "metadata": {},
     "output_type": "execute_result"
    }
   ],
   "source": [
    "# examine class distribution\n",
    "tweet.polarity.value_counts()"
   ]
  },
  {
   "cell_type": "code",
   "execution_count": 3,
   "metadata": {
    "collapsed": true
   },
   "outputs": [],
   "source": [
    "# convert label to a numerical count by creating a new column\n",
    "tweet['polarity_num'] = tweet.polarity.map({'negative':0,'positive':1,'neutral':2})"
   ]
  },
  {
   "cell_type": "code",
   "execution_count": 4,
   "metadata": {},
   "outputs": [
    {
     "name": "stdout",
     "output_type": "stream",
     "text": [
      "(1807,)\n",
      "(1807,)\n"
     ]
    }
   ],
   "source": [
    "# Define X matrix as features and y as vectors\n",
    "X = tweet.text\n",
    "y = tweet.polarity_num\n",
    "print(X.shape)\n",
    "print(y.shape)"
   ]
  },
  {
   "cell_type": "code",
   "execution_count": 5,
   "metadata": {},
   "outputs": [
    {
     "name": "stdout",
     "output_type": "stream",
     "text": [
      "(1355,)\n",
      "(452,)\n",
      "(1355,)\n",
      "(452,)\n"
     ]
    }
   ],
   "source": [
    "from sklearn.model_selection import train_test_split\n",
    "X_train, X_test, y_train, y_test = train_test_split(X, y, random_state=1)\n",
    "\n",
    "print(X_train.shape)\n",
    "print(X_test.shape)\n",
    "print(y_train.shape)\n",
    "print(y_test.shape)"
   ]
  },
  {
   "cell_type": "markdown",
   "metadata": {},
   "source": [
    "### Model evaluation"
   ]
  },
  {
   "cell_type": "code",
   "execution_count": 9,
   "metadata": {
    "collapsed": true
   },
   "outputs": [],
   "source": [
    "from sklearn.feature_extraction.text import CountVectorizer\n",
    "from sklearn.pipeline import Pipeline\n",
    "from sklearn.feature_extraction.text import TfidfTransformer\n",
    "from sklearn.naive_bayes import MultinomialNB\n",
    "from sklearn.linear_model import SGDClassifier\n",
    "from sklearn.linear_model import LogisticRegression\n",
    "from sklearn import metrics\n",
    "import re\n",
    "import numpy as np"
   ]
  },
  {
   "cell_type": "code",
   "execution_count": 14,
   "metadata": {},
   "outputs": [
    {
     "name": "stdout",
     "output_type": "stream",
     "text": [
      "             precision    recall  f1-score   support\n",
      "\n",
      "          0       0.79      0.72      0.76       203\n",
      "          1       0.00      0.00      0.00        27\n",
      "          2       0.70      0.84      0.76       222\n",
      "\n",
      "avg / total       0.70      0.74      0.72       452\n",
      "\n",
      "MultinomialNB Accuracy:  0.738938053097\n"
     ]
    },
    {
     "name": "stderr",
     "output_type": "stream",
     "text": [
      "C:\\Users\\brian\\Anaconda3\\lib\\site-packages\\sklearn\\metrics\\classification.py:1135: UndefinedMetricWarning: Precision and F-score are ill-defined and being set to 0.0 in labels with no predicted samples.\n",
      "  'precision', 'predicted', average, warn_for)\n"
     ]
    }
   ],
   "source": [
    "clf_nb = Pipeline([('vect', CountVectorizer()), ('tfidf', TfidfTransformer()), ('clf', MultinomialNB())])\n",
    "clf_nb = clf_nb.fit(X_train,y_train)\n",
    "y_pred_nb = clf_nb.predict(X_test)\n",
    "print(metrics.classification_report(y_test, y_pred_nb))\n",
    "print(\"MultinomialNB Accuracy: \", metrics.accuracy_score(y_test, y_pred_nb))"
   ]
  },
  {
   "cell_type": "markdown",
   "metadata": {},
   "source": [
    "### SVM"
   ]
  },
  {
   "cell_type": "code",
   "execution_count": 19,
   "metadata": {},
   "outputs": [
    {
     "name": "stdout",
     "output_type": "stream",
     "text": [
      "             precision    recall  f1-score   support\n",
      "\n",
      "          0       0.80      0.76      0.78       203\n",
      "          1       0.75      0.22      0.34        27\n",
      "          2       0.74      0.83      0.78       222\n",
      "\n",
      "avg / total       0.77      0.77      0.76       452\n",
      "\n",
      "SGDClassifier Accuracy:  0.765486725664\n"
     ]
    },
    {
     "name": "stderr",
     "output_type": "stream",
     "text": [
      "C:\\Users\\brian\\Anaconda3\\lib\\site-packages\\sklearn\\linear_model\\stochastic_gradient.py:73: DeprecationWarning: n_iter parameter is deprecated in 0.19 and will be removed in 0.21. Use max_iter and tol instead.\n",
      "  DeprecationWarning)\n"
     ]
    }
   ],
   "source": [
    "clf_svm = Pipeline([('vect', CountVectorizer()), ('tfidf', TfidfTransformer()), ('clf', SGDClassifier(loss='hinge',penalty='l2',alpha=1e-3, n_iter=5,random_state=42))])\n",
    "clf_svm = clf_svm.fit(X_train,y_train)\n",
    "y_pred_svm = clf_svm.predict(X_test)\n",
    "print(metrics.classification_report(y_test, y_pred_svm))\n",
    "print(\"SGDClassifier Accuracy: \", metrics.accuracy_score(y_test, y_pred_svm))"
   ]
  },
  {
   "cell_type": "markdown",
   "metadata": {},
   "source": [
    "### Logistic Regression"
   ]
  },
  {
   "cell_type": "code",
   "execution_count": 21,
   "metadata": {},
   "outputs": [
    {
     "name": "stdout",
     "output_type": "stream",
     "text": [
      "             precision    recall  f1-score   support\n",
      "\n",
      "          0       0.83      0.72      0.77       203\n",
      "          1       0.75      0.11      0.19        27\n",
      "          2       0.72      0.87      0.79       222\n",
      "\n",
      "avg / total       0.77      0.76      0.75       452\n",
      "\n",
      "SGDClassifier Accuracy:  0.761061946903\n"
     ]
    }
   ],
   "source": [
    "from sklearn.linear_model import LogisticRegression\n",
    "clf_reg = Pipeline([('vect', CountVectorizer()), ('tfidf', TfidfTransformer()), ('clf', LogisticRegression())])\n",
    "clf_reg = clf_reg.fit(X_train,y_train)\n",
    "y_pred_reg = clf_reg.predict(X_test)\n",
    "print(metrics.classification_report(y_test, y_pred_reg))\n",
    "print(\"SGDClassifier Accuracy: \", metrics.accuracy_score(y_test, y_pred_reg))"
   ]
  },
  {
   "cell_type": "markdown",
   "metadata": {},
   "source": [
    "### Grid Search"
   ]
  },
  {
   "cell_type": "code",
   "execution_count": null,
   "metadata": {
    "collapsed": true
   },
   "outputs": [],
   "source": [
    "from sklearn.model_selection import GridSearchCV \n",
    "parameters = {'vect__ngram_range': [(1, 1), (1, 2)], 'tfidf__use_idf': (True, False), }"
   ]
  },
  {
   "cell_type": "code",
   "execution_count": null,
   "metadata": {
    "collapsed": true
   },
   "outputs": [],
   "source": [
    "clf_list = [clf_nb, clf_reg, clf_svm]\n",
    "clf_dict = {\n",
    "    clf_nb : {'vect__ngram_range': [(1, 1), (1, 2)],'tfidf__use_idf': (True, False),'clf__alpha': (1e-2, 1e-3),},\n",
    "    clf_reg : {'vect__ngram_range': [(1, 1), (1, 2)], 'tfidf__use_idf': (True, False), },\n",
    "    clf_svm : {'vect__ngram_range': [(1, 1), (1, 2)],'tfidf__use_idf': (True, False),'clf__alpha': (1e-2, 1e-3),}\n",
    "}\n",
    "\n",
    "scores = {}\n",
    "# loop every key and value in the dictionary\n",
    "for clf, params in clf_dict.items():\n",
    "    gs_clf = GridSearchCV(clf, params, n_jobs=-1, cv=10)\n",
    "    gs_clf = gs_clf.fit(X_train, y_train)\n",
    "    scores[clf] = gs_clf.best_score_\n",
    "\n",
    "\n",
    "\n",
    "# for clf in clf_list:\n",
    "#     gs_clf = GridSearchCV(clf, parameters, n_jobs=-1, cv=10)\n",
    "#     gs_clf = gs_clf.fit(X_train, y_train)\n",
    "#     print(gs_clf.best_score_)"
   ]
  },
  {
   "cell_type": "code",
   "execution_count": null,
   "metadata": {
    "collapsed": true
   },
   "outputs": [],
   "source": [
    "scores = joblib.load('scores.pkl')\n",
    "maximum = max(scores, key=scores.get)  # Just use 'min' instead of 'max' for minimum.\n",
    "print(maximum, scores[maximum])\n",
    "# scores"
   ]
  },
  {
   "cell_type": "code",
   "execution_count": null,
   "metadata": {
    "collapsed": true
   },
   "outputs": [],
   "source": [
    "gs_clf.best_score_"
   ]
  },
  {
   "cell_type": "code",
   "execution_count": null,
   "metadata": {
    "collapsed": true
   },
   "outputs": [],
   "source": [
    "gs_clf.best_params_"
   ]
  },
  {
   "cell_type": "markdown",
   "metadata": {},
   "source": [
    "### Model persistence"
   ]
  },
  {
   "cell_type": "code",
   "execution_count": null,
   "metadata": {
    "collapsed": true
   },
   "outputs": [],
   "source": [
    "# pickle the scores for faster access\n",
    "from sklearn.externals import joblib\n",
    "joblib.dump(scores, 'scores.pkl') "
   ]
  },
  {
   "cell_type": "code",
   "execution_count": null,
   "metadata": {
    "collapsed": true
   },
   "outputs": [],
   "source": [
    "# calculate accuracy of class predictions\n",
    "from sklearn import metrics\n",
    "from sklearn.metrics import classification_report\n",
    "metrics.accuracy_score(y_test, y_pred_class)\n",
    "print(classification_report(y_test, y_pred_class))"
   ]
  },
  {
   "cell_type": "code",
   "execution_count": null,
   "metadata": {
    "collapsed": true
   },
   "outputs": [],
   "source": [
    "vect = CountVectorizer()\n",
    "X_dtm = vect.fit_transform(X)"
   ]
  },
  {
   "cell_type": "code",
   "execution_count": null,
   "metadata": {
    "collapsed": true
   },
   "outputs": [],
   "source": [
    "from sklearn.model_selection import cross_val_score\n",
    "logreg = MultinomialNB()\n",
    "print(cross_val_score(logreg, X_dtm, y, cv=10, scoring='accuracy').mean())"
   ]
  },
  {
   "cell_type": "markdown",
   "metadata": {},
   "source": [
    "### Confusion Matrix"
   ]
  },
  {
   "cell_type": "code",
   "execution_count": 39,
   "metadata": {},
   "outputs": [
    {
     "name": "stdout",
     "output_type": "stream",
     "text": [
      "\n",
      "This snippet of code was extracted from: \n",
      "http://scikit-learn.org/stable/auto_examples/model_selection/plot_confusion_matrix.html\n",
      "\n",
      "Confusion matrix, without normalization\n",
      "[[147   0  56]\n",
      " [  3   0  24]\n",
      " [ 35   0 187]]\n",
      "Normalized confusion matrix\n",
      "[[ 0.72  0.    0.28]\n",
      " [ 0.11  0.    0.89]\n",
      " [ 0.16  0.    0.84]]\n"
     ]
    },
    {
     "data": {
      "image/png": "[encoded data removed]",
      "text/plain": [
       "<matplotlib.figure.Figure at 0x2249ba4ad68>"
      ]
     },
     "metadata": {},
     "output_type": "display_data"
    },
    {
     "data": {
      "image/png": "[encoded data removed]",
      "text/plain": [
       "<matplotlib.figure.Figure at 0x2249bfd9160>"
      ]
     },
     "metadata": {},
     "output_type": "display_data"
    },
    {
     "name": "stdout",
     "output_type": "stream",
     "text": [
      "Confusion matrix, without normalization\n",
      "[[147   0  56]\n",
      " [  3   3  21]\n",
      " [ 27   1 194]]\n",
      "Normalized confusion matrix\n",
      "[[ 0.72  0.    0.28]\n",
      " [ 0.11  0.11  0.78]\n",
      " [ 0.12  0.    0.87]]\n"
     ]
    },
    {
     "data": {
      "image/png": "[encoded data removed]",
      "text/plain": [
       "<matplotlib.figure.Figure at 0x2249c15d908>"
      ]
     },
     "metadata": {},
     "output_type": "display_data"
    },
    {
     "data": {
      "image/png": "[encoded data removed]",
      "text/plain": [
       "<matplotlib.figure.Figure at 0x2249be01470>"
      ]
     },
     "metadata": {},
     "output_type": "display_data"
    },
    {
     "name": "stdout",
     "output_type": "stream",
     "text": [
      "Confusion matrix, without normalization\n",
      "[[155   0  48]\n",
      " [  4   6  17]\n",
      " [ 35   2 185]]\n",
      "Normalized confusion matrix\n",
      "[[ 0.76  0.    0.24]\n",
      " [ 0.15  0.22  0.63]\n",
      " [ 0.16  0.01  0.83]]\n"
     ]
    },
    {
     "data": {
      "image/png": "[encoded data removed]",
      "text/plain": [
       "<matplotlib.figure.Figure at 0x2249c4e26d8>"
      ]
     },
     "metadata": {},
     "output_type": "display_data"
    },
    {
     "data": {
      "image/png": "[encoded data removed]",
      "text/plain": [
       "<matplotlib.figure.Figure at 0x2249b745f28>"
      ]
     },
     "metadata": {},
     "output_type": "display_data"
    }
   ],
   "source": [
    "\"\"\"\n",
    "This snippet of code was extracted from: \n",
    "http://scikit-learn.org/stable/auto_examples/model_selection/plot_confusion_matrix.html\n",
    "\"\"\"\n",
    "\n",
    "print(__doc__)\n",
    "\n",
    "import itertools\n",
    "import numpy as np\n",
    "import matplotlib.pyplot as plt\n",
    "\n",
    "from sklearn import svm, datasets\n",
    "from sklearn.model_selection import train_test_split\n",
    "from sklearn.metrics import confusion_matrix\n",
    "\n",
    "class_names = ['negative','positive','neutral']\n",
    "\n",
    "def plot_confusion_matrix(cm, classes,\n",
    "                          normalize=False,\n",
    "                          title='Confusion matrix',\n",
    "                          cmap=plt.cm.Blues):\n",
    "    \"\"\"\n",
    "    This function prints and plots the confusion matrix.\n",
    "    Normalization can be applied by setting `normalize=True`.\n",
    "    \"\"\"\n",
    "    if normalize:\n",
    "        cm = cm.astype('float') / cm.sum(axis=1)[:, np.newaxis]\n",
    "        print(\"Normalized confusion matrix\")\n",
    "    else:\n",
    "        print('Confusion matrix, without normalization')\n",
    "\n",
    "    print(cm)\n",
    "\n",
    "    plt.imshow(cm, interpolation='nearest', cmap=cmap)\n",
    "    plt.title(title)\n",
    "    plt.colorbar()\n",
    "    tick_marks = np.arange(len(classes))\n",
    "    plt.xticks(tick_marks, classes, rotation=45)\n",
    "    plt.yticks(tick_marks, classes)\n",
    "\n",
    "    fmt = '.2f' if normalize else 'd'\n",
    "    thresh = cm.max() / 2.\n",
    "    for i, j in itertools.product(range(cm.shape[0]), range(cm.shape[1])):\n",
    "        plt.text(j, i, format(cm[i, j], fmt),\n",
    "                 horizontalalignment=\"center\",\n",
    "                 color=\"white\" if cm[i, j] > thresh else \"black\")\n",
    "\n",
    "    plt.tight_layout()\n",
    "    plt.ylabel('True label')\n",
    "    plt.xlabel('Predicted label')\n",
    "\n",
    "# Compute confusion matrix for all predicted y\n",
    "\n",
    "predicted_y = [y_pred_nb, y_pred_reg, y_pred_svm]\n",
    "\n",
    "titles = ['MultinominalNB', 'Logistic Regression', 'Support Vector Machine']\n",
    "\n",
    "for index, y_prediction in enumerate(predicted_y):\n",
    "    cnf_matrix = confusion_matrix(y_test, y_prediction)\n",
    "    np.set_printoptions(precision=2)\n",
    "\n",
    "    # Plot non-normalized confusion matrix\n",
    "    plt.figure()\n",
    "    plot_confusion_matrix(cnf_matrix, classes=class_names,\n",
    "                          title=titles[index] + ' confusion matrix, without normalization')\n",
    "\n",
    "    # Plot normalized confusion matrix\n",
    "    plt.figure()\n",
    "    plot_confusion_matrix(cnf_matrix, classes=class_names, normalize=True,\n",
    "                          title=titles[index] + ' normalized confusion matrix')\n",
    "\n",
    "    plt.show()"
   ]
  },
  {
   "cell_type": "code",
   "execution_count": null,
   "metadata": {
    "collapsed": true
   },
   "outputs": [],
   "source": [
    "clf_svm.predict(['OK'])"
   ]
  },
  {
   "cell_type": "markdown",
   "metadata": {
    "collapsed": true
   },
   "source": [
    "# Topic Modelling"
   ]
  },
  {
   "cell_type": "code",
   "execution_count": 43,
   "metadata": {},
   "outputs": [
    {
     "name": "stderr",
     "output_type": "stream",
     "text": [
      "C:\\Users\\brian\\Anaconda3\\lib\\site-packages\\sklearn\\decomposition\\online_lda.py:294: DeprecationWarning: n_topics has been renamed to n_components in version 0.19 and will be removed in 0.21\n",
      "  DeprecationWarning)\n"
     ]
    },
    {
     "name": "stdout",
     "output_type": "stream",
     "text": [
      "Topic 0:\n",
      "order number status delivered hi\n",
      "Topic 1:\n",
      "thank ok yes delivered response\n",
      "Topic 2:\n",
      "com twitter pic https jumia\n",
      "Topic 3:\n",
      "thanks ok alright got sorted\n",
      "Topic 4:\n",
      "dm follow check send did\n",
      "Topic 5:\n",
      "cancel order like want need\n",
      "Topic 6:\n",
      "delivery pay option hello hi\n",
      "Topic 7:\n",
      "okay check week boss tomorrow\n",
      "Topic 8:\n",
      "waiting reply feedback ll weeks\n",
      "Topic 9:\n",
      "kindly check confirm hi email\n",
      "Topic 0:\n",
      "thank bn item pick point\n",
      "Topic 1:\n",
      "day error generic supplier save\n",
      "Topic 2:\n",
      "use hope email 300 code\n",
      "Topic 3:\n",
      "okay waiting right patient bit\n",
      "Topic 4:\n",
      "order kindly number delivery hi\n",
      "Topic 5:\n",
      "price tv tecno 32 plus\n",
      "Topic 6:\n",
      "ni hours 48 uko wapi\n",
      "Topic 7:\n",
      "package time guys sent details\n",
      "Topic 8:\n",
      "com thanks twitter pic jumia\n",
      "Topic 9:\n",
      "bought replace long tried started\n"
     ]
    }
   ],
   "source": [
    "from sklearn.feature_extraction.text import TfidfVectorizer, CountVectorizer\n",
    "from sklearn.decomposition import NMF, LatentDirichletAllocation\n",
    "\n",
    "def display_topics(model, feature_names, no_top_words):\n",
    "    for topic_index, topic in enumerate(model.components_):\n",
    "        print(\"Topic %d:\" % (topic_index))\n",
    "        print(\" \".join([feature_names[i] for i in topic.argsort()[:-no_top_words -1:-1]]))\n",
    "\n",
    "# NMF is able to use tf-idf\n",
    "tfidf_vectorizer = TfidfVectorizer(max_df=0.95, min_df=2, stop_words='english')\n",
    "tfidf = tfidf_vectorizer.fit_transform(X)\n",
    "tfidf_feature_names = tfidf_vectorizer.get_feature_names()\n",
    "\n",
    "# LDA can only use raw term counts for LDA because it is a probabilistic graphical model\n",
    "tf_vectorizer = CountVectorizer(max_df=0.95, min_df=2, stop_words='english')\n",
    "tf = tf_vectorizer.fit_transform(X)\n",
    "tf_feature_names = tf_vectorizer.get_feature_names()\n",
    "\n",
    "no_topics = 10\n",
    "\n",
    "# Run NMF\n",
    "nmf = NMF(n_components=no_topics, random_state=1, alpha=.1, l1_ratio=.5, init='nndsvd').fit(tfidf)\n",
    "\n",
    "# Run LDA\n",
    "lda = LatentDirichletAllocation(n_topics=no_topics, max_iter=5, learning_method='online', learning_offset=50.,random_state=0).fit(tf)\n",
    "\n",
    "no_top_words = 5\n",
    "display_topics(nmf, tfidf_feature_names, no_top_words)\n",
    "display_topics(lda, tf_feature_names, no_top_words)"
   ]
  },
  {
   "cell_type": "code",
   "execution_count": 35,
   "metadata": {},
   "outputs": [
    {
     "data": {
      "text/plain": [
       "(20, 1000)"
      ]
     },
     "execution_count": 35,
     "metadata": {},
     "output_type": "execute_result"
    }
   ],
   "source": [
    "nmf.components_.shape"
   ]
  },
  {
   "cell_type": "markdown",
   "metadata": {},
   "source": [
    "### NMF and LDA Summarized Topics"
   ]
  },
  {
   "cell_type": "code",
   "execution_count": 44,
   "metadata": {},
   "outputs": [
    {
     "name": "stderr",
     "output_type": "stream",
     "text": [
      "C:\\Users\\brian\\Anaconda3\\lib\\site-packages\\sklearn\\decomposition\\online_lda.py:294: DeprecationWarning: n_topics has been renamed to n_components in version 0.19 and will be removed in 0.21\n",
      "  DeprecationWarning)\n"
     ]
    },
    {
     "name": "stdout",
     "output_type": "stream",
     "text": [
      "Topic 0:\n",
      "order cancel number kindly\n",
      " hi.I've tried calling the no. you used to call me but the response is that it's out of service\n",
      "Kindly expedite.\n",
      "Its a phone and am in kabarnet\n",
      " you don't serve people as they wish,why would you council orders your customers do!?!! \n",
      "Topic 1:\n",
      "thank okay ok yes\n",
      " please inform on order 304296586 posta stuff have record of not calling citing lack of credit.... please help\n",
      " Kindly update me on status of order 301131186, the online tracking hasn't updated since 10th August.\n",
      "how much is this\n",
      " what's the status on my order 306865686 am not being notified.\n",
      "Topic 0:\n",
      "order number delivery kindly\n",
      "Hallo Jumia, I had paid upfront for this stuff and by bad luck, I have deleted the txt msg for iPAY. I hope on delivery day no problem.\n",
      " I wanna Order the Infinix Note 4 to be delivered within town.\n",
      "Am in kisii how soon can get this\n",
      " I made an order more than three weeks ago,Im yet to b informed whether the product is arrived.\n",
      "Topic 1:\n",
      "com thanks twitter pic\n",
      "Noted\n",
      " How do I get in touch with one of your agents. I need to inquire about an item I want to purchase.\n",
      "Diaper Friday and Unga Monday\n",
      "Correction kindly note, it is not are in transit but rather forced into transit after I complained. I will never prepay ever again.\n"
     ]
    }
   ],
   "source": [
    "from sklearn.feature_extraction.text import TfidfVectorizer, CountVectorizer\n",
    "from sklearn.decomposition import NMF, LatentDirichletAllocation\n",
    "import numpy as np\n",
    "\n",
    "def display_topics(H, W, feature_names, documents, no_top_words, no_top_documents):\n",
    "    for topic_idx, topic in enumerate(H):\n",
    "        print(\"Topic %d:\" % (topic_idx))\n",
    "        print(\" \".join([feature_names[i]\n",
    "                        for i in topic.argsort()[:-no_top_words - 1:-1]]))\n",
    "        top_doc_indices = np.argsort( W[:,topic_idx] )[::-1][0:no_top_documents]\n",
    "        for doc_index in top_doc_indices:\n",
    "            print(documents[doc_index])\n",
    "\n",
    "# NMF is able to use tf-idf\n",
    "tfidf_vectorizer = TfidfVectorizer(max_df=0.95, min_df=2, stop_words='english')\n",
    "tfidf = tfidf_vectorizer.fit_transform(X)\n",
    "tfidf_feature_names = tfidf_vectorizer.get_feature_names()\n",
    "\n",
    "# LDA can only use raw term counts for LDA because it is a probabilistic graphical model\n",
    "tf_vectorizer = CountVectorizer(max_df=0.95, min_df=2, stop_words='english')\n",
    "tf = tf_vectorizer.fit_transform(X)\n",
    "tf_feature_names = tf_vectorizer.get_feature_names()\n",
    "\n",
    "no_topics = 2\n",
    "\n",
    "# Run NMF\n",
    "nmf_model = NMF(n_components=no_topics, random_state=1, alpha=.1, l1_ratio=.5, init='nndsvd').fit(tfidf)\n",
    "nmf_W = nmf_model.transform(tfidf)\n",
    "nmf_H = nmf_model.components_\n",
    "\n",
    "# Run LDA\n",
    "lda_model = LatentDirichletAllocation(n_topics=no_topics, max_iter=5, learning_method='online', learning_offset=50.,random_state=0).fit(tf)\n",
    "lda_W = lda_model.transform(tf)\n",
    "lda_H = lda_model.components_\n",
    "\n",
    "no_top_words = 4\n",
    "no_top_documents = 4\n",
    "display_topics(nmf_H, nmf_W, tfidf_feature_names, X, no_top_words, no_top_documents)\n",
    "display_topics(lda_H, lda_W, tf_feature_names, X, no_top_words, no_top_documents)"
   ]
  },
  {
   "cell_type": "code",
   "execution_count": 37,
   "metadata": {},
   "outputs": [
    {
     "data": {
      "text/plain": [
       "'MultinominalNB'"
      ]
     },
     "execution_count": 37,
     "metadata": {},
     "output_type": "execute_result"
    }
   ],
   "source": [
    "titles[0]"
   ]
  },
  {
   "cell_type": "code",
   "execution_count": 36,
   "metadata": {},
   "outputs": [
    {
     "name": "stdout",
     "output_type": "stream",
     "text": [
      "0\n",
      "1\n",
      "2\n"
     ]
    }
   ],
   "source": [
    "for i, title in enumerate(titles):\n",
    "    print(i)"
   ]
  },
  {
   "cell_type": "code",
   "execution_count": null,
   "metadata": {
    "collapsed": true
   },
   "outputs": [],
   "source": []
  }
 ],
 "metadata": {
  "kernelspec": {
   "display_name": "Python 3",
   "language": "python",
   "name": "python3"
  },
  "language_info": {
   "codemirror_mode": {
    "name": "ipython",
    "version": 3
   },
   "file_extension": ".py",
   "mimetype": "text/x-python",
   "name": "python",
   "nbconvert_exporter": "python",
   "pygments_lexer": "ipython3",
   "version": "3.6.2"
  }
 },
 "nbformat": 4,
 "nbformat_minor": 2
}
